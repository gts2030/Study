{
 "cells": [
  {
   "cell_type": "code",
   "execution_count": 1,
   "metadata": {},
   "outputs": [],
   "source": [
    "import math\n",
    "import numpy as np\n",
    "import matplotlib.pyplot as plt"
   ]
  },
  {
   "cell_type": "markdown",
   "metadata": {},
   "source": [
    "### Filter design\n",
    "\n",
    "In this simulation, the robot has a state vector includes 4 states at time $t$.\n",
    "\n",
    "$$\\textbf{x}_t=[x_t, y_t, \\phi_t, v_t]$$\n",
    "\n",
    "x, y are a 2D x-y position, $\\phi$ is orientation, and v is velocity.\n",
    "\n",
    "In the code, \"xEst\" means the state vector.\n",
    "\n",
    "And, $P_t$ is covariace matrix of the state,\n",
    "\n",
    "$Q$ is covariance matrix of process noise, \n",
    "\n",
    "$R$ is covariance matrix of observation noise at time $t$ \n",
    "\n",
    "　\n",
    "\n",
    "The robot has a speed sensor and a gyro sensor.\n",
    "\n",
    "So, the input vecor can be used as each time step\n",
    "\n",
    "$$\\textbf{u}_t=[v_t, \\omega_t]$$\n",
    "\n",
    "Also, the robot has a GNSS sensor, it means that the robot can observe x-y position at each time.\n",
    "\n",
    "$$\\textbf{z}_t=[x_t,y_t]$$\n",
    "\n",
    "The input and observation vector includes sensor noise.\n",
    "\n",
    "In the code, \"observation\" function generates the input and observation vector with noise"
   ]
  },
  {
   "cell_type": "code",
   "execution_count": 2,
   "metadata": {},
   "outputs": [],
   "source": [
    "#### Covariance for EKF simulation ####\n",
    "\n",
    "# predict state covariance\n",
    "Q = np.diag([\n",
    "    0.1, # variance of location on x-axis\n",
    "    0.1, # variance of location on y-axis\n",
    "    np.deg2rad(1.0), # variance of yaw angle\n",
    "    1.0 # variance of velocity\n",
    "    ])**2\n",
    "\n",
    "# Observation x,y position covariance\n",
    "R = np.diag([1.0, 1.0])**2  \n",
    "\n",
    "#  Simulation parameter\n",
    "INPUT_NOISE = np.diag([1.0, np.deg2rad(30.0)])**2\n",
    "GPS_NOISE = np.diag([0.5, 0.5])**2\n",
    "\n",
    "DT = 0.1  # time tick [s]\n",
    "SIM_TIME = 50.0  # simulation time [s]\n",
    "\n",
    "show_animation = True"
   ]
  },
  {
   "cell_type": "code",
   "execution_count": null,
   "metadata": {},
   "outputs": [],
   "source": []
  }
 ],
 "metadata": {
  "kernelspec": {
   "display_name": "Python 3",
   "language": "python",
   "name": "python3"
  },
  "language_info": {
   "codemirror_mode": {
    "name": "ipython",
    "version": 3
   },
   "file_extension": ".py",
   "mimetype": "text/x-python",
   "name": "python",
   "nbconvert_exporter": "python",
   "pygments_lexer": "ipython3",
   "version": "3.6.8"
  }
 },
 "nbformat": 4,
 "nbformat_minor": 4
}
